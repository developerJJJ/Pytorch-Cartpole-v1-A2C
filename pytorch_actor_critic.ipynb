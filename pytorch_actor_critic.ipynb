{
  "cells": [
    {
      "cell_type": "code",
      "execution_count": 1,
      "id": "ycqtH7t1Ma6c",
      "metadata": {
        "id": "ycqtH7t1Ma6c"
      },
      "outputs": [],
      "source": [
        "# !pip install pygame"
      ]
    },
    {
      "cell_type": "code",
      "execution_count": 2,
      "id": "606e6d24",
      "metadata": {
        "id": "606e6d24"
      },
      "outputs": [],
      "source": [
        "import gym\n",
        "import numpy as np\n",
        "from itertools import count\n",
        "from collections import namedtuple\n",
        "\n",
        "import torch\n",
        "import torch.nn as nn\n",
        "import torch.nn.functional as F\n",
        "import torch.optim as optim\n",
        "from torch.distributions import Categorical"
      ]
    },
    {
      "cell_type": "code",
      "execution_count": 3,
      "id": "GzGRO1O6NJvK",
      "metadata": {
        "id": "GzGRO1O6NJvK"
      },
      "outputs": [],
      "source": [
        "# for colab pygame compatibility\n",
        "import os\n",
        "os.environ[\"SDL_VIDEODRIVER\"] = \"dummy\""
      ]
    },
    {
      "cell_type": "code",
      "execution_count": 4,
      "id": "7555695c",
      "metadata": {
        "colab": {
          "base_uri": "https://localhost:8080/"
        },
        "id": "7555695c",
        "outputId": "5de22cb2-31f3-4df7-e635-37a79fef90d9"
      },
      "outputs": [
        {
          "name": "stderr",
          "output_type": "stream",
          "text": [
            "/usr/local/lib/python3.8/dist-packages/gym/core.py:317: DeprecationWarning: \u001b[33mWARN: Initializing wrapper in old step API which returns one bool instead of two. It is recommended to set `new_step_api=True` to use new step API. This will be the default behaviour in future.\u001b[0m\n",
            "  deprecation(\n",
            "/usr/local/lib/python3.8/dist-packages/gym/wrappers/step_api_compatibility.py:39: DeprecationWarning: \u001b[33mWARN: Initializing environment in old step API which returns one bool instead of two. It is recommended to set `new_step_api=True` to use new step API. This will be the default behaviour in future.\u001b[0m\n",
            "  deprecation(\n"
          ]
        }
      ],
      "source": [
        "# Hyperparamerters\n",
        "gamma = 0.99\n",
        "seed = 543\n",
        "render = True\n",
        "log_interval = 10\n",
        "\n",
        "# Cart Pole\n",
        "env = gym.make('CartPole-v1')\n",
        "env.reset(seed=seed)\n",
        "torch.manual_seed(seed)\n",
        "\n",
        "SavedAction = namedtuple('SavedAction', ['log_prob', 'value'])\n",
        "\n",
        "\n",
        "class Policy(nn.Module):\n",
        "    \"\"\"\n",
        "    implements both actor and critic in one model\n",
        "    \"\"\"\n",
        "    def __init__(self):\n",
        "        super(Policy, self).__init__()\n",
        "        self.fc1 = nn.Linear(4, 128)\n",
        "\n",
        "        # actor's layer\n",
        "        self.action_head = nn.Linear(128, 2)\n",
        "\n",
        "        # critic's layer\n",
        "        self.value_head = nn.Linear(128, 1)\n",
        "\n",
        "        # action & reward buffer\n",
        "        self.saved_actions = []\n",
        "        self.rewards = []\n",
        "\n",
        "    def forward(self, x):\n",
        "        \"\"\"\n",
        "        forward of both actor and critic\n",
        "        \"\"\"\n",
        "        x = F.relu(self.fc1(x))\n",
        "\n",
        "        # actor: choses action to take from state s_t\n",
        "        # by returning probability of each action\n",
        "        action_prob = F.softmax(self.action_head(x), dim=-1)\n",
        "\n",
        "        # critic: evaluates being in the state s_t\n",
        "        state_values = self.value_head(x)\n",
        "\n",
        "        # return values for both actor and critic as a tuple of 2 values:\n",
        "        # 1. a list with the probability of each action over the action space\n",
        "        # 2. the value from state s_t\n",
        "        return action_prob, state_values\n",
        "\n",
        "\n",
        "model = Policy()\n",
        "optimizer = optim.Adam(model.parameters(), lr=5+e-3)\n",
        "# eps is for not making 0 denominator\n",
        "eps = np.finfo(np.float32).eps.item()\n"
      ]
    },
    {
      "cell_type": "code",
      "execution_count": 5,
      "id": "7X_b-CaYDnMb",
      "metadata": {
        "id": "7X_b-CaYDnMb"
      },
      "outputs": [],
      "source": [
        "def select_action(state):\n",
        "    state = torch.from_numpy(state).float()\n",
        "    probs, state_value = model(state)\n",
        "\n",
        "    # create a categorical distribution over the list of probabilities of actions\n",
        "    m = Categorical(probs)\n",
        "\n",
        "    # and sample an action using the distribution\n",
        "    action = m.sample()\n",
        "\n",
        "    # save to action buffer\n",
        "    model.saved_actions.append(SavedAction(m.log_prob(action), state_value))\n",
        "\n",
        "    # the action to take (left or right)\n",
        "    return action.item()"
      ]
    },
    {
      "cell_type": "code",
      "execution_count": 6,
      "id": "fxf2qpDqFkLh",
      "metadata": {
        "id": "fxf2qpDqFkLh"
      },
      "outputs": [],
      "source": [
        "def train():\n",
        "    \"\"\"\n",
        "    Training code. Calculates actor and critic loss and performs backprop.\n",
        "    \"\"\"\n",
        "    R = 0\n",
        "    saved_actions = model.saved_actions\n",
        "    policy_losses = [] # list to save actor (policy) loss\n",
        "    value_losses = [] # list to save critic (value) loss\n",
        "    returns = [] # list to save the true values\n",
        "\n",
        "    # calculate the true value using rewards returned from the environment\n",
        "    for r in model.rewards[::-1]:\n",
        "        # calculate the discounted value\n",
        "        R = r + gamma * R\n",
        "        returns.insert(0, R)\n",
        "\n",
        "    returns = torch.tensor(returns)\n",
        "    returns = (returns - returns.mean()) / (returns.std() + eps)\n",
        "\n",
        "    for (log_prob, value), R in zip(saved_actions, returns):\n",
        "        advantage = R - value.item()\n",
        "\n",
        "        # calculate actor (policy) loss\n",
        "        policy_losses.append(-log_prob * advantage)\n",
        "\n",
        "        # calculate critic (value) loss using L1 smooth loss\n",
        "        value_losses.append(F.smooth_l1_loss(value, torch.tensor([R])))\n",
        "\n",
        "    # reset gradients\n",
        "    optimizer.zero_grad()\n",
        "\n",
        "    # sum up all the values of policy_losses and value_losses\n",
        "    loss = torch.stack(policy_losses).sum() + torch.stack(value_losses).sum()\n",
        "\n",
        "    # backpropagation\n",
        "    loss.backward()\n",
        "    # update weights in layers\n",
        "    optimizer.step()\n",
        "\n",
        "    # reset rewards and action buffer\n",
        "    del model.rewards[:]\n",
        "    del model.saved_actions[:]    "
      ]
    },
    {
      "cell_type": "code",
      "execution_count": 7,
      "id": "SXj_9KbiDo_S",
      "metadata": {
        "id": "SXj_9KbiDo_S"
      },
      "outputs": [],
      "source": [
        "def main():\n",
        "    running_reward = 10\n",
        "\n",
        "    for i_episode in count(1):\n",
        "\n",
        "        # reset environment and episode reward\n",
        "        state = env.reset()\n",
        "        ep_reward = 0\n",
        "\n",
        "        # for each episode, only run limited steps so that we don't\n",
        "        # infinite loop while learning\n",
        "        for t in range(1, 400):\n",
        "\n",
        "            # select action from policy\n",
        "            action = select_action(state)\n",
        "\n",
        "            # take the action\n",
        "            state, reward, done, _ = env.step(action)\n",
        "\n",
        "            if render:\n",
        "                env.render()\n",
        "\n",
        "            model.rewards.append(reward)\n",
        "            ep_reward += reward\n",
        "            if done:\n",
        "                break\n",
        "\n",
        "        # update cumulative reward\n",
        "        running_reward = 0.05 * ep_reward + (1 - 0.05) * running_reward\n",
        "\n",
        "        # perform backprop\n",
        "        train()\n",
        "\n",
        "        # log results\n",
        "        if i_episode % log_interval == 0:\n",
        "            print(f'Episode {i_episode}\\tLast reward: {ep_reward:.2f}\\tAverage reward: {running_reward:.2f}')\n",
        "\n",
        "        # check if we have \"solved\" the cart pole problem\n",
        "        if running_reward > env.spec.reward_threshold:\n",
        "            print(f\"Solved! Running reward is now {running_reward} and \"\n",
        "                  f\"the last episode runs to {t} time steps!\")\n",
        "            break"
      ]
    },
    {
      "cell_type": "code",
      "execution_count": null,
      "id": "7f78971f",
      "metadata": {
        "colab": {
          "base_uri": "https://localhost:8080/"
        },
        "id": "7f78971f",
        "outputId": "fe3484a7-3ee5-44a6-bbfe-7f846f636940"
      },
      "outputs": [
        {
          "name": "stderr",
          "output_type": "stream",
          "text": [
            "/usr/local/lib/python3.8/dist-packages/gym/core.py:49: DeprecationWarning: \u001b[33mWARN: You are calling render method, but you didn't specified the argument render_mode at environment initialization. To maintain backward compatibility, the environment will render in human mode.\n",
            "If you want to render in human mode, initialize the environment in this way: gym.make('EnvName', render_mode='human') and don't call the render method.\n",
            "See here for more information: https://www.gymlibrary.ml/content/api/\u001b[0m\n",
            "  deprecation(\n"
          ]
        },
        {
          "name": "stdout",
          "output_type": "stream",
          "text": [
            "Episode 10\tLast reward: 18.00\tAverage reward: 11.76\n",
            "Episode 20\tLast reward: 19.00\tAverage reward: 12.81\n",
            "Episode 30\tLast reward: 39.00\tAverage reward: 17.37\n",
            "Episode 40\tLast reward: 47.00\tAverage reward: 24.35\n",
            "Episode 50\tLast reward: 20.00\tAverage reward: 30.64\n",
            "Episode 60\tLast reward: 76.00\tAverage reward: 43.65\n",
            "Episode 70\tLast reward: 59.00\tAverage reward: 47.95\n",
            "Episode 80\tLast reward: 41.00\tAverage reward: 45.93\n",
            "Episode 90\tLast reward: 114.00\tAverage reward: 75.46\n",
            "Episode 100\tLast reward: 191.00\tAverage reward: 99.55\n",
            "Episode 110\tLast reward: 133.00\tAverage reward: 136.82\n",
            "Episode 120\tLast reward: 126.00\tAverage reward: 182.63\n",
            "Episode 130\tLast reward: 92.00\tAverage reward: 177.83\n",
            "Episode 140\tLast reward: 119.00\tAverage reward: 171.12\n",
            "Episode 150\tLast reward: 399.00\tAverage reward: 188.42\n",
            "Episode 160\tLast reward: 399.00\tAverage reward: 217.20\n",
            "Episode 170\tLast reward: 399.00\tAverage reward: 275.83\n",
            "Episode 180\tLast reward: 399.00\tAverage reward: 311.97\n",
            "Episode 190\tLast reward: 229.00\tAverage reward: 276.22\n",
            "Episode 200\tLast reward: 399.00\tAverage reward: 251.89\n",
            "Episode 210\tLast reward: 399.00\tAverage reward: 281.43\n",
            "Episode 220\tLast reward: 399.00\tAverage reward: 324.27\n",
            "Episode 230\tLast reward: 399.00\tAverage reward: 322.94\n",
            "Episode 240\tLast reward: 399.00\tAverage reward: 332.73\n",
            "Episode 250\tLast reward: 375.00\tAverage reward: 330.93\n",
            "Episode 260\tLast reward: 285.00\tAverage reward: 325.57\n",
            "Episode 270\tLast reward: 399.00\tAverage reward: 335.05\n",
            "Episode 280\tLast reward: 399.00\tAverage reward: 350.51\n",
            "Episode 290\tLast reward: 399.00\tAverage reward: 346.17\n",
            "Episode 300\tLast reward: 399.00\tAverage reward: 361.48\n",
            "Episode 310\tLast reward: 284.00\tAverage reward: 365.01\n",
            "Episode 320\tLast reward: 399.00\tAverage reward: 378.65\n",
            "Episode 330\tLast reward: 399.00\tAverage reward: 386.69\n",
            "Episode 340\tLast reward: 399.00\tAverage reward: 387.61\n"
          ]
        }
      ],
      "source": [
        "main()"
      ]
    }
  ],
  "metadata": {
    "accelerator": "TPU",
    "colab": {
      "provenance": []
    },
    "gpuClass": "standard",
    "kernelspec": {
      "display_name": "Python 3 (ipykernel)",
      "language": "python",
      "name": "python3"
    },
    "language_info": {
      "codemirror_mode": {
        "name": "ipython",
        "version": 3
      },
      "file_extension": ".py",
      "mimetype": "text/x-python",
      "name": "python",
      "nbconvert_exporter": "python",
      "pygments_lexer": "ipython3",
      "version": "3.9.13"
    }
  },
  "nbformat": 4,
  "nbformat_minor": 5
}
